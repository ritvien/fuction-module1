{
 "cells": [
  {
   "cell_type": "code",
   "execution_count": 3,
   "id": "1735f2e3",
   "metadata": {},
   "outputs": [],
   "source": [
    "#Vẽ ngôi nhà mơ ước\n",
    "import turtle\n",
    "t = turtle.Turtle()\n",
    "t.pensize(3)\n",
    "t.penup()\n",
    "t.speed(10)\n",
    "def rectangle(x,y,color):\n",
    "        t.pendown()\n",
    "        t.fillcolor(color)\n",
    "        t.begin_fill()\n",
    "        t.fd(x)\n",
    "        t.lt(90)\n",
    "        t.fd(y)\n",
    "        t.lt(90)\n",
    "        t.fd(x)\n",
    "        t.lt(90)\n",
    "        t.fd(y)\n",
    "        t.lt(90)\n",
    "        t.end_fill()\n",
    "        t.penup()\n",
    "\n",
    "t.goto(-200,0)\n",
    "rectangle(100,150,\"silver\")\n",
    "t.goto(-100,0)\n",
    "rectangle(100,150,\"silver\")\n",
    "t.goto(-200,-150)\n",
    "rectangle(100,150,\"silver\")\n",
    "t.goto(-100,-150)\n",
    "rectangle(100,150,\"silver\")\n",
    "t.goto(0,-150)\n",
    "rectangle(150,200,\"gray\")\n",
    "a,b,c = 30,70,'white'\n",
    "t.goto(-150,40)\n",
    "rectangle(a,b,c)\n",
    "t.goto(-50,40)\n",
    "rectangle(a,b,c)\n",
    "t.goto(-150,-110)\n",
    "rectangle(a,b,c)\n",
    "t.goto(-50,-110)\n",
    "rectangle(a,b,c)\n",
    "t.goto(45,-150)\n",
    "rectangle(a,b,'blue')\n",
    "t.goto(75,-150)\n",
    "rectangle(a,b,'blue')"
   ]
  },
  {
   "cell_type": "code",
   "execution_count": null,
   "id": "6e5a6775",
   "metadata": {},
   "outputs": [],
   "source": []
  }
 ],
 "metadata": {
  "kernelspec": {
   "display_name": "Python 3 (ipykernel)",
   "language": "python",
   "name": "python3"
  },
  "language_info": {
   "codemirror_mode": {
    "name": "ipython",
    "version": 3
   },
   "file_extension": ".py",
   "mimetype": "text/x-python",
   "name": "python",
   "nbconvert_exporter": "python",
   "pygments_lexer": "ipython3",
   "version": "3.9.13"
  }
 },
 "nbformat": 4,
 "nbformat_minor": 5
}
